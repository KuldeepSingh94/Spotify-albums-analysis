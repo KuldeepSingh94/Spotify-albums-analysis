{
 "cells": [
  {
   "cell_type": "code",
   "execution_count": 1,
   "id": "d57d24a7",
   "metadata": {},
   "outputs": [],
   "source": [
    "import pandas as pd\n",
    "import matplotlib.pyplot as plt\n",
    "import seaborn as sns"
   ]
  },
  {
   "cell_type": "code",
   "execution_count": 2,
   "id": "ab276abc",
   "metadata": {},
   "outputs": [],
   "source": [
    "df = pd.read_csv(\"dataset.csv\",low_memory=False)"
   ]
  },
  {
   "cell_type": "code",
   "execution_count": 3,
   "id": "488cd000",
   "metadata": {},
   "outputs": [
    {
     "data": {
      "text/html": [
       "<div>\n",
       "<style scoped>\n",
       "    .dataframe tbody tr th:only-of-type {\n",
       "        vertical-align: middle;\n",
       "    }\n",
       "\n",
       "    .dataframe tbody tr th {\n",
       "        vertical-align: top;\n",
       "    }\n",
       "\n",
       "    .dataframe thead th {\n",
       "        text-align: right;\n",
       "    }\n",
       "</style>\n",
       "<table border=\"1\" class=\"dataframe\">\n",
       "  <thead>\n",
       "    <tr style=\"text-align: right;\">\n",
       "      <th></th>\n",
       "      <th>Unnamed: 0</th>\n",
       "      <th>track_id</th>\n",
       "      <th>artists</th>\n",
       "      <th>album_name</th>\n",
       "      <th>track_name</th>\n",
       "      <th>popularity</th>\n",
       "      <th>duration_ms</th>\n",
       "      <th>explicit</th>\n",
       "      <th>danceability</th>\n",
       "      <th>energy</th>\n",
       "      <th>...</th>\n",
       "      <th>loudness</th>\n",
       "      <th>mode</th>\n",
       "      <th>speechiness</th>\n",
       "      <th>acousticness</th>\n",
       "      <th>instrumentalness</th>\n",
       "      <th>liveness</th>\n",
       "      <th>valence</th>\n",
       "      <th>tempo</th>\n",
       "      <th>time_signature</th>\n",
       "      <th>track_genre</th>\n",
       "    </tr>\n",
       "  </thead>\n",
       "  <tbody>\n",
       "    <tr>\n",
       "      <th>0</th>\n",
       "      <td>NaN</td>\n",
       "      <td>5SuOikwiRyPMVoIQDJUgSV</td>\n",
       "      <td>Gen Hoshino</td>\n",
       "      <td>Comedy</td>\n",
       "      <td>Comedy</td>\n",
       "      <td>73</td>\n",
       "      <td>230666</td>\n",
       "      <td>False</td>\n",
       "      <td>0.676</td>\n",
       "      <td>0.4610</td>\n",
       "      <td>...</td>\n",
       "      <td>-6.746</td>\n",
       "      <td>0</td>\n",
       "      <td>0.1430</td>\n",
       "      <td>0.0322</td>\n",
       "      <td>0.000001</td>\n",
       "      <td>0.3580</td>\n",
       "      <td>0.715</td>\n",
       "      <td>87.917</td>\n",
       "      <td>4</td>\n",
       "      <td>acoustic</td>\n",
       "    </tr>\n",
       "    <tr>\n",
       "      <th>1</th>\n",
       "      <td>NaN</td>\n",
       "      <td>4qPNDBW1i3p13qLCt0Ki3A</td>\n",
       "      <td>Ben Woodward</td>\n",
       "      <td>Ghost (Acoustic)</td>\n",
       "      <td>Ghost - Acoustic</td>\n",
       "      <td>55</td>\n",
       "      <td>149610</td>\n",
       "      <td>False</td>\n",
       "      <td>0.420</td>\n",
       "      <td>0.1660</td>\n",
       "      <td>...</td>\n",
       "      <td>-17.235</td>\n",
       "      <td>1</td>\n",
       "      <td>0.0763</td>\n",
       "      <td>0.9240</td>\n",
       "      <td>0.000006</td>\n",
       "      <td>0.1010</td>\n",
       "      <td>0.267</td>\n",
       "      <td>77.489</td>\n",
       "      <td>4</td>\n",
       "      <td>acoustic</td>\n",
       "    </tr>\n",
       "    <tr>\n",
       "      <th>2</th>\n",
       "      <td>NaN</td>\n",
       "      <td>1iJBSr7s7jYXzM8EGcbK5b</td>\n",
       "      <td>Ingrid Michaelson;ZAYN</td>\n",
       "      <td>To Begin Again</td>\n",
       "      <td>To Begin Again</td>\n",
       "      <td>57</td>\n",
       "      <td>210826</td>\n",
       "      <td>False</td>\n",
       "      <td>0.438</td>\n",
       "      <td>0.3590</td>\n",
       "      <td>...</td>\n",
       "      <td>-9.734</td>\n",
       "      <td>1</td>\n",
       "      <td>0.0557</td>\n",
       "      <td>0.2100</td>\n",
       "      <td>0.000000</td>\n",
       "      <td>0.1170</td>\n",
       "      <td>0.120</td>\n",
       "      <td>76.332</td>\n",
       "      <td>4</td>\n",
       "      <td>acoustic</td>\n",
       "    </tr>\n",
       "    <tr>\n",
       "      <th>3</th>\n",
       "      <td>NaN</td>\n",
       "      <td>6lfxq3CG4xtTiEg7opyCyx</td>\n",
       "      <td>Kina Grannis</td>\n",
       "      <td>Crazy Rich Asians (Original Motion Picture Sou...</td>\n",
       "      <td>Can't Help Falling In Love</td>\n",
       "      <td>71</td>\n",
       "      <td>201933</td>\n",
       "      <td>False</td>\n",
       "      <td>0.266</td>\n",
       "      <td>0.0596</td>\n",
       "      <td>...</td>\n",
       "      <td>-18.515</td>\n",
       "      <td>1</td>\n",
       "      <td>0.0363</td>\n",
       "      <td>0.9050</td>\n",
       "      <td>0.000071</td>\n",
       "      <td>0.1320</td>\n",
       "      <td>0.143</td>\n",
       "      <td>181.740</td>\n",
       "      <td>3</td>\n",
       "      <td>acoustic</td>\n",
       "    </tr>\n",
       "    <tr>\n",
       "      <th>4</th>\n",
       "      <td>NaN</td>\n",
       "      <td>5vjLSffimiIP26QG5WcN2K</td>\n",
       "      <td>Chord Overstreet</td>\n",
       "      <td>Hold On</td>\n",
       "      <td>Hold On</td>\n",
       "      <td>82</td>\n",
       "      <td>198853</td>\n",
       "      <td>False</td>\n",
       "      <td>0.618</td>\n",
       "      <td>0.4430</td>\n",
       "      <td>...</td>\n",
       "      <td>-9.681</td>\n",
       "      <td>1</td>\n",
       "      <td>0.0526</td>\n",
       "      <td>0.4690</td>\n",
       "      <td>0.000000</td>\n",
       "      <td>0.0829</td>\n",
       "      <td>0.167</td>\n",
       "      <td>119.949</td>\n",
       "      <td>4</td>\n",
       "      <td>acoustic</td>\n",
       "    </tr>\n",
       "  </tbody>\n",
       "</table>\n",
       "<p>5 rows × 21 columns</p>\n",
       "</div>"
      ],
      "text/plain": [
       "   Unnamed: 0                track_id                 artists  \\\n",
       "0         NaN  5SuOikwiRyPMVoIQDJUgSV             Gen Hoshino   \n",
       "1         NaN  4qPNDBW1i3p13qLCt0Ki3A            Ben Woodward   \n",
       "2         NaN  1iJBSr7s7jYXzM8EGcbK5b  Ingrid Michaelson;ZAYN   \n",
       "3         NaN  6lfxq3CG4xtTiEg7opyCyx            Kina Grannis   \n",
       "4         NaN  5vjLSffimiIP26QG5WcN2K        Chord Overstreet   \n",
       "\n",
       "                                          album_name  \\\n",
       "0                                             Comedy   \n",
       "1                                   Ghost (Acoustic)   \n",
       "2                                     To Begin Again   \n",
       "3  Crazy Rich Asians (Original Motion Picture Sou...   \n",
       "4                                            Hold On   \n",
       "\n",
       "                   track_name  popularity  duration_ms explicit  danceability  \\\n",
       "0                      Comedy          73       230666    False         0.676   \n",
       "1            Ghost - Acoustic          55       149610    False         0.420   \n",
       "2              To Begin Again          57       210826    False         0.438   \n",
       "3  Can't Help Falling In Love          71       201933    False         0.266   \n",
       "4                     Hold On          82       198853    False         0.618   \n",
       "\n",
       "   energy  ...  loudness  mode  speechiness  acousticness  instrumentalness  \\\n",
       "0  0.4610  ...    -6.746     0       0.1430        0.0322          0.000001   \n",
       "1  0.1660  ...   -17.235     1       0.0763        0.9240          0.000006   \n",
       "2  0.3590  ...    -9.734     1       0.0557        0.2100          0.000000   \n",
       "3  0.0596  ...   -18.515     1       0.0363        0.9050          0.000071   \n",
       "4  0.4430  ...    -9.681     1       0.0526        0.4690          0.000000   \n",
       "\n",
       "   liveness  valence    tempo  time_signature  track_genre  \n",
       "0    0.3580    0.715   87.917               4     acoustic  \n",
       "1    0.1010    0.267   77.489               4     acoustic  \n",
       "2    0.1170    0.120   76.332               4     acoustic  \n",
       "3    0.1320    0.143  181.740               3     acoustic  \n",
       "4    0.0829    0.167  119.949               4     acoustic  \n",
       "\n",
       "[5 rows x 21 columns]"
      ]
     },
     "execution_count": 3,
     "metadata": {},
     "output_type": "execute_result"
    }
   ],
   "source": [
    "df.head()"
   ]
  },
  {
   "cell_type": "code",
   "execution_count": 4,
   "id": "b1891848",
   "metadata": {},
   "outputs": [
    {
     "data": {
      "text/plain": [
       "(114288, 21)"
      ]
     },
     "execution_count": 4,
     "metadata": {},
     "output_type": "execute_result"
    }
   ],
   "source": [
    "df.shape"
   ]
  },
  {
   "cell_type": "code",
   "execution_count": 5,
   "id": "da02be76",
   "metadata": {},
   "outputs": [
    {
     "name": "stdout",
     "output_type": "stream",
     "text": [
      "<class 'pandas.core.frame.DataFrame'>\n",
      "RangeIndex: 114288 entries, 0 to 114287\n",
      "Data columns (total 21 columns):\n",
      " #   Column            Non-Null Count   Dtype  \n",
      "---  ------            --------------   -----  \n",
      " 0   Unnamed: 0        91561 non-null   float64\n",
      " 1   track_id          114288 non-null  object \n",
      " 2   artists           114287 non-null  object \n",
      " 3   album_name        114287 non-null  object \n",
      " 4   track_name        114287 non-null  object \n",
      " 5   popularity        114288 non-null  int64  \n",
      " 6   duration_ms       114288 non-null  int64  \n",
      " 7   explicit          114286 non-null  object \n",
      " 8   danceability      114279 non-null  float64\n",
      " 9   energy            114287 non-null  float64\n",
      " 10  key               114288 non-null  int64  \n",
      " 11  loudness          114285 non-null  float64\n",
      " 12  mode              114288 non-null  int64  \n",
      " 13  speechiness       114287 non-null  float64\n",
      " 14  acousticness      114285 non-null  float64\n",
      " 15  instrumentalness  114287 non-null  float64\n",
      " 16  liveness          114264 non-null  float64\n",
      " 17  valence           114287 non-null  float64\n",
      " 18  tempo             114283 non-null  float64\n",
      " 19  time_signature    114288 non-null  int64  \n",
      " 20  track_genre       114288 non-null  object \n",
      "dtypes: float64(10), int64(5), object(6)\n",
      "memory usage: 18.3+ MB\n"
     ]
    }
   ],
   "source": [
    "df.info()"
   ]
  },
  {
   "cell_type": "code",
   "execution_count": null,
   "id": "a07d4699",
   "metadata": {},
   "outputs": [],
   "source": []
  },
  {
   "cell_type": "markdown",
   "id": "1053b7a3",
   "metadata": {},
   "source": [
    "# We will check for null values"
   ]
  },
  {
   "cell_type": "code",
   "execution_count": 6,
   "id": "50f99dac",
   "metadata": {},
   "outputs": [
    {
     "data": {
      "text/plain": [
       "Unnamed: 0          22727\n",
       "track_id                0\n",
       "artists                 1\n",
       "album_name              1\n",
       "track_name              1\n",
       "popularity              0\n",
       "duration_ms             0\n",
       "explicit                2\n",
       "danceability            9\n",
       "energy                  1\n",
       "key                     0\n",
       "loudness                3\n",
       "mode                    0\n",
       "speechiness             1\n",
       "acousticness            3\n",
       "instrumentalness        1\n",
       "liveness               24\n",
       "valence                 1\n",
       "tempo                   5\n",
       "time_signature          0\n",
       "track_genre             0\n",
       "dtype: int64"
      ]
     },
     "execution_count": 6,
     "metadata": {},
     "output_type": "execute_result"
    }
   ],
   "source": [
    "df.isnull().sum()"
   ]
  },
  {
   "cell_type": "code",
   "execution_count": 7,
   "id": "a254fc75",
   "metadata": {},
   "outputs": [
    {
     "data": {
      "text/plain": [
       "<AxesSubplot: >"
      ]
     },
     "execution_count": 7,
     "metadata": {},
     "output_type": "execute_result"
    },
    {
     "data": {
      "image/png": "[encoded data removed]",
      "text/plain": [
       "<Figure size 640x480 with 2 Axes>"
      ]
     },
     "metadata": {},
     "output_type": "display_data"
    }
   ],
   "source": [
    "sns.heatmap(df.isnull()) # we can visualize null valuse using heatmap"
   ]
  },
  {
   "cell_type": "markdown",
   "id": "d415b0d3",
   "metadata": {},
   "source": [
    "* to drop null value"
   ]
  },
  {
   "cell_type": "code",
   "execution_count": 8,
   "id": "a81fc877",
   "metadata": {},
   "outputs": [],
   "source": [
    "df.dropna(inplace=True)"
   ]
  },
  {
   "cell_type": "code",
   "execution_count": 9,
   "id": "62ff02f4",
   "metadata": {},
   "outputs": [
    {
     "data": {
      "text/plain": [
       "Unnamed: 0          0\n",
       "track_id            0\n",
       "artists             0\n",
       "album_name          0\n",
       "track_name          0\n",
       "popularity          0\n",
       "duration_ms         0\n",
       "explicit            0\n",
       "danceability        0\n",
       "energy              0\n",
       "key                 0\n",
       "loudness            0\n",
       "mode                0\n",
       "speechiness         0\n",
       "acousticness        0\n",
       "instrumentalness    0\n",
       "liveness            0\n",
       "valence             0\n",
       "tempo               0\n",
       "time_signature      0\n",
       "track_genre         0\n",
       "dtype: int64"
      ]
     },
     "execution_count": 9,
     "metadata": {},
     "output_type": "execute_result"
    }
   ],
   "source": [
    "df.isnull().sum()"
   ]
  },
  {
   "cell_type": "code",
   "execution_count": null,
   "id": "fa188393",
   "metadata": {},
   "outputs": [],
   "source": []
  },
  {
   "cell_type": "markdown",
   "id": "1faaef53",
   "metadata": {},
   "source": [
    "# To check duplicate values"
   ]
  },
  {
   "cell_type": "code",
   "execution_count": 10,
   "id": "e51f5e94",
   "metadata": {},
   "outputs": [
    {
     "data": {
      "text/html": [
       "<div>\n",
       "<style scoped>\n",
       "    .dataframe tbody tr th:only-of-type {\n",
       "        vertical-align: middle;\n",
       "    }\n",
       "\n",
       "    .dataframe tbody tr th {\n",
       "        vertical-align: top;\n",
       "    }\n",
       "\n",
       "    .dataframe thead th {\n",
       "        text-align: right;\n",
       "    }\n",
       "</style>\n",
       "<table border=\"1\" class=\"dataframe\">\n",
       "  <thead>\n",
       "    <tr style=\"text-align: right;\">\n",
       "      <th></th>\n",
       "      <th>Unnamed: 0</th>\n",
       "      <th>track_id</th>\n",
       "      <th>artists</th>\n",
       "      <th>album_name</th>\n",
       "      <th>track_name</th>\n",
       "      <th>popularity</th>\n",
       "      <th>duration_ms</th>\n",
       "      <th>explicit</th>\n",
       "      <th>danceability</th>\n",
       "      <th>energy</th>\n",
       "      <th>...</th>\n",
       "      <th>loudness</th>\n",
       "      <th>mode</th>\n",
       "      <th>speechiness</th>\n",
       "      <th>acousticness</th>\n",
       "      <th>instrumentalness</th>\n",
       "      <th>liveness</th>\n",
       "      <th>valence</th>\n",
       "      <th>tempo</th>\n",
       "      <th>time_signature</th>\n",
       "      <th>track_genre</th>\n",
       "    </tr>\n",
       "  </thead>\n",
       "  <tbody>\n",
       "    <tr>\n",
       "      <th>113944</th>\n",
       "      <td>113943.0</td>\n",
       "      <td>2XrZVAgEyFuhasEwfpG7Oa</td>\n",
       "      <td>Monjes Tibetanos</td>\n",
       "      <td>Monjes Tibetanos - Canciones Asiaticas Relajan...</td>\n",
       "      <td>Sueños de Plata</td>\n",
       "      <td>21</td>\n",
       "      <td>255999</td>\n",
       "      <td>False</td>\n",
       "      <td>0.1760</td>\n",
       "      <td>0.2220</td>\n",
       "      <td>...</td>\n",
       "      <td>-18.027</td>\n",
       "      <td>0</td>\n",
       "      <td>0.0391</td>\n",
       "      <td>0.96500</td>\n",
       "      <td>0.737000</td>\n",
       "      <td>0.126</td>\n",
       "      <td>0.0626</td>\n",
       "      <td>79.519</td>\n",
       "      <td>3</td>\n",
       "      <td>world-music</td>\n",
       "    </tr>\n",
       "    <tr>\n",
       "      <th>113945</th>\n",
       "      <td>113944.0</td>\n",
       "      <td>38I54HzdySOwsuRKt3hEZw</td>\n",
       "      <td>Phil Wickham</td>\n",
       "      <td>Hymn Of Heaven (Acoustic Sessions)</td>\n",
       "      <td>House Of The Lord - Acoustic</td>\n",
       "      <td>34</td>\n",
       "      <td>226182</td>\n",
       "      <td>False</td>\n",
       "      <td>0.5820</td>\n",
       "      <td>0.3990</td>\n",
       "      <td>...</td>\n",
       "      <td>-11.004</td>\n",
       "      <td>1</td>\n",
       "      <td>0.0297</td>\n",
       "      <td>0.11200</td>\n",
       "      <td>0.000000</td>\n",
       "      <td>0.112</td>\n",
       "      <td>0.2900</td>\n",
       "      <td>135.974</td>\n",
       "      <td>4</td>\n",
       "      <td>world-music</td>\n",
       "    </tr>\n",
       "    <tr>\n",
       "      <th>113947</th>\n",
       "      <td>113946.0</td>\n",
       "      <td>5XTdgvMiVHNSzzFrKAXU91</td>\n",
       "      <td>Cesária Evora</td>\n",
       "      <td>Best Of</td>\n",
       "      <td>Petit Pays</td>\n",
       "      <td>22</td>\n",
       "      <td>226160</td>\n",
       "      <td>False</td>\n",
       "      <td>0.5550</td>\n",
       "      <td>0.4860</td>\n",
       "      <td>...</td>\n",
       "      <td>-11.584</td>\n",
       "      <td>0</td>\n",
       "      <td>0.0324</td>\n",
       "      <td>0.79000</td>\n",
       "      <td>0.000000</td>\n",
       "      <td>0.256</td>\n",
       "      <td>0.8360</td>\n",
       "      <td>156.170</td>\n",
       "      <td>4</td>\n",
       "      <td>world-music</td>\n",
       "    </tr>\n",
       "    <tr>\n",
       "      <th>113948</th>\n",
       "      <td>113947.0</td>\n",
       "      <td>0cqsWgcbzZy77hPJ6IlvYj</td>\n",
       "      <td>Rend Collective</td>\n",
       "      <td>Build Your Kingdom Here (A Rend Collective Mix...</td>\n",
       "      <td>You Are My Vision</td>\n",
       "      <td>22</td>\n",
       "      <td>235000</td>\n",
       "      <td>False</td>\n",
       "      <td>0.5020</td>\n",
       "      <td>0.9400</td>\n",
       "      <td>...</td>\n",
       "      <td>-6.427</td>\n",
       "      <td>1</td>\n",
       "      <td>0.0813</td>\n",
       "      <td>0.01350</td>\n",
       "      <td>0.000000</td>\n",
       "      <td>0.366</td>\n",
       "      <td>0.3180</td>\n",
       "      <td>123.030</td>\n",
       "      <td>4</td>\n",
       "      <td>world-music</td>\n",
       "    </tr>\n",
       "    <tr>\n",
       "      <th>113949</th>\n",
       "      <td>113948.0</td>\n",
       "      <td>7qXftOJ8aDwpoV9OBXJj1a</td>\n",
       "      <td>Planetshakers</td>\n",
       "      <td>Legado</td>\n",
       "      <td>Incontenible</td>\n",
       "      <td>23</td>\n",
       "      <td>268441</td>\n",
       "      <td>False</td>\n",
       "      <td>0.5580</td>\n",
       "      <td>0.8340</td>\n",
       "      <td>...</td>\n",
       "      <td>-5.552</td>\n",
       "      <td>0</td>\n",
       "      <td>0.0450</td>\n",
       "      <td>0.03570</td>\n",
       "      <td>0.000013</td>\n",
       "      <td>0.194</td>\n",
       "      <td>0.4830</td>\n",
       "      <td>127.931</td>\n",
       "      <td>4</td>\n",
       "      <td>world-music</td>\n",
       "    </tr>\n",
       "    <tr>\n",
       "      <th>...</th>\n",
       "      <td>...</td>\n",
       "      <td>...</td>\n",
       "      <td>...</td>\n",
       "      <td>...</td>\n",
       "      <td>...</td>\n",
       "      <td>...</td>\n",
       "      <td>...</td>\n",
       "      <td>...</td>\n",
       "      <td>...</td>\n",
       "      <td>...</td>\n",
       "      <td>...</td>\n",
       "      <td>...</td>\n",
       "      <td>...</td>\n",
       "      <td>...</td>\n",
       "      <td>...</td>\n",
       "      <td>...</td>\n",
       "      <td>...</td>\n",
       "      <td>...</td>\n",
       "      <td>...</td>\n",
       "      <td>...</td>\n",
       "      <td>...</td>\n",
       "    </tr>\n",
       "    <tr>\n",
       "      <th>114283</th>\n",
       "      <td>113973.0</td>\n",
       "      <td>1d2LyEJ1zZ0gWtlxyZQpDE</td>\n",
       "      <td>Vertical Worship</td>\n",
       "      <td>The Rock Won't Move</td>\n",
       "      <td>I Will Follow</td>\n",
       "      <td>44</td>\n",
       "      <td>260839</td>\n",
       "      <td>False</td>\n",
       "      <td>0.3190</td>\n",
       "      <td>0.5770</td>\n",
       "      <td>...</td>\n",
       "      <td>-7.679</td>\n",
       "      <td>1</td>\n",
       "      <td>0.0330</td>\n",
       "      <td>0.04990</td>\n",
       "      <td>0.000000</td>\n",
       "      <td>0.729</td>\n",
       "      <td>0.1890</td>\n",
       "      <td>97.678</td>\n",
       "      <td>4</td>\n",
       "      <td>world-music</td>\n",
       "    </tr>\n",
       "    <tr>\n",
       "      <th>114284</th>\n",
       "      <td>113974.0</td>\n",
       "      <td>0VVvjjtKyOeT2AEMTSQ33t</td>\n",
       "      <td>Chris Tomlin</td>\n",
       "      <td>And If Our God Is For Us...</td>\n",
       "      <td>Faithful</td>\n",
       "      <td>34</td>\n",
       "      <td>285120</td>\n",
       "      <td>False</td>\n",
       "      <td>0.6180</td>\n",
       "      <td>0.4190</td>\n",
       "      <td>...</td>\n",
       "      <td>-6.156</td>\n",
       "      <td>1</td>\n",
       "      <td>0.0279</td>\n",
       "      <td>0.30900</td>\n",
       "      <td>0.000000</td>\n",
       "      <td>0.107</td>\n",
       "      <td>0.3730</td>\n",
       "      <td>131.973</td>\n",
       "      <td>4</td>\n",
       "      <td>world-music</td>\n",
       "    </tr>\n",
       "    <tr>\n",
       "      <th>114285</th>\n",
       "      <td>113975.0</td>\n",
       "      <td>2yAo8cJDVoMjBMS5MgrO8P</td>\n",
       "      <td>Hillsong Worship;Hillsong Young &amp; Free</td>\n",
       "      <td>OPEN HEAVEN / River Wild</td>\n",
       "      <td>This Is Living</td>\n",
       "      <td>38</td>\n",
       "      <td>214647</td>\n",
       "      <td>False</td>\n",
       "      <td>0.6110</td>\n",
       "      <td>0.8570</td>\n",
       "      <td>...</td>\n",
       "      <td>-6.248</td>\n",
       "      <td>0</td>\n",
       "      <td>0.0384</td>\n",
       "      <td>0.00182</td>\n",
       "      <td>0.000000</td>\n",
       "      <td>0.326</td>\n",
       "      <td>0.4640</td>\n",
       "      <td>128.001</td>\n",
       "      <td>4</td>\n",
       "      <td>world-music</td>\n",
       "    </tr>\n",
       "    <tr>\n",
       "      <th>114286</th>\n",
       "      <td>113976.0</td>\n",
       "      <td>11Jywidl4OVzmjziGR0QiO</td>\n",
       "      <td>Urban Rescue</td>\n",
       "      <td>Wild Heart</td>\n",
       "      <td>Alive In You</td>\n",
       "      <td>42</td>\n",
       "      <td>253546</td>\n",
       "      <td>False</td>\n",
       "      <td>0.5220</td>\n",
       "      <td>0.6970</td>\n",
       "      <td>...</td>\n",
       "      <td>-7.210</td>\n",
       "      <td>1</td>\n",
       "      <td>0.0344</td>\n",
       "      <td>0.05570</td>\n",
       "      <td>0.000000</td>\n",
       "      <td>0.134</td>\n",
       "      <td>0.2880</td>\n",
       "      <td>75.972</td>\n",
       "      <td>4</td>\n",
       "      <td>world-music</td>\n",
       "    </tr>\n",
       "    <tr>\n",
       "      <th>114287</th>\n",
       "      <td>113977.0</td>\n",
       "      <td>3FuOBnk7Xsglp7AIsHQVaA</td>\n",
       "      <td>Reiki Armonía</td>\n",
       "      <td>Música Relajante para Reiki - Canciones de Fon...</td>\n",
       "      <td>Paz Mental</td>\n",
       "      <td>21</td>\n",
       "      <td>290999</td>\n",
       "      <td>False</td>\n",
       "      <td>0.0672</td>\n",
       "      <td>0.0903</td>\n",
       "      <td>...</td>\n",
       "      <td>-23.496</td>\n",
       "      <td>1</td>\n",
       "      <td>0.0401</td>\n",
       "      <td>0.97000</td>\n",
       "      <td>0.977000</td>\n",
       "      <td>0.093</td>\n",
       "      <td>0.0361</td>\n",
       "      <td>76.042</td>\n",
       "      <td>4</td>\n",
       "      <td>world-music</td>\n",
       "    </tr>\n",
       "  </tbody>\n",
       "</table>\n",
       "<p>109 rows × 21 columns</p>\n",
       "</div>"
      ],
      "text/plain": [
       "        Unnamed: 0                track_id  \\\n",
       "113944    113943.0  2XrZVAgEyFuhasEwfpG7Oa   \n",
       "113945    113944.0  38I54HzdySOwsuRKt3hEZw   \n",
       "113947    113946.0  5XTdgvMiVHNSzzFrKAXU91   \n",
       "113948    113947.0  0cqsWgcbzZy77hPJ6IlvYj   \n",
       "113949    113948.0  7qXftOJ8aDwpoV9OBXJj1a   \n",
       "...            ...                     ...   \n",
       "114283    113973.0  1d2LyEJ1zZ0gWtlxyZQpDE   \n",
       "114284    113974.0  0VVvjjtKyOeT2AEMTSQ33t   \n",
       "114285    113975.0  2yAo8cJDVoMjBMS5MgrO8P   \n",
       "114286    113976.0  11Jywidl4OVzmjziGR0QiO   \n",
       "114287    113977.0  3FuOBnk7Xsglp7AIsHQVaA   \n",
       "\n",
       "                                       artists  \\\n",
       "113944                        Monjes Tibetanos   \n",
       "113945                            Phil Wickham   \n",
       "113947                           Cesária Evora   \n",
       "113948                         Rend Collective   \n",
       "113949                           Planetshakers   \n",
       "...                                        ...   \n",
       "114283                        Vertical Worship   \n",
       "114284                            Chris Tomlin   \n",
       "114285  Hillsong Worship;Hillsong Young & Free   \n",
       "114286                            Urban Rescue   \n",
       "114287                           Reiki Armonía   \n",
       "\n",
       "                                               album_name  \\\n",
       "113944  Monjes Tibetanos - Canciones Asiaticas Relajan...   \n",
       "113945                 Hymn Of Heaven (Acoustic Sessions)   \n",
       "113947                                            Best Of   \n",
       "113948  Build Your Kingdom Here (A Rend Collective Mix...   \n",
       "113949                                             Legado   \n",
       "...                                                   ...   \n",
       "114283                                The Rock Won't Move   \n",
       "114284                        And If Our God Is For Us...   \n",
       "114285                           OPEN HEAVEN / River Wild   \n",
       "114286                                         Wild Heart   \n",
       "114287  Música Relajante para Reiki - Canciones de Fon...   \n",
       "\n",
       "                          track_name  popularity  duration_ms explicit  \\\n",
       "113944               Sueños de Plata          21       255999    False   \n",
       "113945  House Of The Lord - Acoustic          34       226182    False   \n",
       "113947                    Petit Pays          22       226160    False   \n",
       "113948             You Are My Vision          22       235000    False   \n",
       "113949                  Incontenible          23       268441    False   \n",
       "...                              ...         ...          ...      ...   \n",
       "114283                 I Will Follow          44       260839    False   \n",
       "114284                      Faithful          34       285120    False   \n",
       "114285                This Is Living          38       214647    False   \n",
       "114286                  Alive In You          42       253546    False   \n",
       "114287                    Paz Mental          21       290999    False   \n",
       "\n",
       "        danceability  energy  ...  loudness  mode  speechiness  acousticness  \\\n",
       "113944        0.1760  0.2220  ...   -18.027     0       0.0391       0.96500   \n",
       "113945        0.5820  0.3990  ...   -11.004     1       0.0297       0.11200   \n",
       "113947        0.5550  0.4860  ...   -11.584     0       0.0324       0.79000   \n",
       "113948        0.5020  0.9400  ...    -6.427     1       0.0813       0.01350   \n",
       "113949        0.5580  0.8340  ...    -5.552     0       0.0450       0.03570   \n",
       "...              ...     ...  ...       ...   ...          ...           ...   \n",
       "114283        0.3190  0.5770  ...    -7.679     1       0.0330       0.04990   \n",
       "114284        0.6180  0.4190  ...    -6.156     1       0.0279       0.30900   \n",
       "114285        0.6110  0.8570  ...    -6.248     0       0.0384       0.00182   \n",
       "114286        0.5220  0.6970  ...    -7.210     1       0.0344       0.05570   \n",
       "114287        0.0672  0.0903  ...   -23.496     1       0.0401       0.97000   \n",
       "\n",
       "        instrumentalness  liveness  valence    tempo  time_signature  \\\n",
       "113944          0.737000     0.126   0.0626   79.519               3   \n",
       "113945          0.000000     0.112   0.2900  135.974               4   \n",
       "113947          0.000000     0.256   0.8360  156.170               4   \n",
       "113948          0.000000     0.366   0.3180  123.030               4   \n",
       "113949          0.000013     0.194   0.4830  127.931               4   \n",
       "...                  ...       ...      ...      ...             ...   \n",
       "114283          0.000000     0.729   0.1890   97.678               4   \n",
       "114284          0.000000     0.107   0.3730  131.973               4   \n",
       "114285          0.000000     0.326   0.4640  128.001               4   \n",
       "114286          0.000000     0.134   0.2880   75.972               4   \n",
       "114287          0.977000     0.093   0.0361   76.042               4   \n",
       "\n",
       "        track_genre  \n",
       "113944  world-music  \n",
       "113945  world-music  \n",
       "113947  world-music  \n",
       "113948  world-music  \n",
       "113949  world-music  \n",
       "...             ...  \n",
       "114283  world-music  \n",
       "114284  world-music  \n",
       "114285  world-music  \n",
       "114286  world-music  \n",
       "114287  world-music  \n",
       "\n",
       "[109 rows x 21 columns]"
      ]
     },
     "execution_count": 10,
     "metadata": {},
     "output_type": "execute_result"
    }
   ],
   "source": [
    "df[df.duplicated()]"
   ]
  },
  {
   "cell_type": "markdown",
   "id": "600456f8",
   "metadata": {},
   "source": [
    "* Total number of duplicate values are"
   ]
  },
  {
   "cell_type": "code",
   "execution_count": 11,
   "id": "0efdd105",
   "metadata": {},
   "outputs": [
    {
     "data": {
      "text/plain": [
       "109"
      ]
     },
     "execution_count": 11,
     "metadata": {},
     "output_type": "execute_result"
    }
   ],
   "source": [
    "len(df[df.duplicated()])"
   ]
  },
  {
   "cell_type": "markdown",
   "id": "293be33e",
   "metadata": {},
   "source": [
    "* To drop duplicate values"
   ]
  },
  {
   "cell_type": "code",
   "execution_count": 12,
   "id": "349d5f0a",
   "metadata": {},
   "outputs": [],
   "source": [
    "df.drop_duplicates(inplace=True)"
   ]
  },
  {
   "cell_type": "code",
   "execution_count": 13,
   "id": "5f1c928e",
   "metadata": {},
   "outputs": [
    {
     "data": {
      "text/plain": [
       "0"
      ]
     },
     "execution_count": 13,
     "metadata": {},
     "output_type": "execute_result"
    }
   ],
   "source": [
    "len(df[df.duplicated()])"
   ]
  },
  {
   "cell_type": "code",
   "execution_count": null,
   "id": "0b040f8e",
   "metadata": {},
   "outputs": [],
   "source": []
  },
  {
   "cell_type": "markdown",
   "id": "0496e109",
   "metadata": {},
   "source": [
    "# To remove unwanted coulmns"
   ]
  },
  {
   "cell_type": "code",
   "execution_count": 14,
   "id": "1c6f1268",
   "metadata": {},
   "outputs": [
    {
     "data": {
      "text/plain": [
       "Index(['Unnamed: 0', 'track_id', 'artists', 'album_name', 'track_name',\n",
       "       'popularity', 'duration_ms', 'explicit', 'danceability', 'energy',\n",
       "       'key', 'loudness', 'mode', 'speechiness', 'acousticness',\n",
       "       'instrumentalness', 'liveness', 'valence', 'tempo', 'time_signature',\n",
       "       'track_genre'],\n",
       "      dtype='object')"
      ]
     },
     "execution_count": 14,
     "metadata": {},
     "output_type": "execute_result"
    }
   ],
   "source": [
    "df.columns"
   ]
  },
  {
   "cell_type": "code",
   "execution_count": 15,
   "id": "5a5a4846",
   "metadata": {},
   "outputs": [],
   "source": [
    "df.drop(['Unnamed: 0','track_id',\"speechiness\",\"key\"],axis=1,inplace=True)"
   ]
  },
  {
   "cell_type": "code",
   "execution_count": null,
   "id": "1923f50d",
   "metadata": {},
   "outputs": [],
   "source": []
  },
  {
   "cell_type": "markdown",
   "id": "f85d3d23",
   "metadata": {},
   "source": [
    "# Statistics of the dataframe"
   ]
  },
  {
   "cell_type": "code",
   "execution_count": 16,
   "id": "b805220f",
   "metadata": {},
   "outputs": [
    {
     "data": {
      "text/html": [
       "<div>\n",
       "<style scoped>\n",
       "    .dataframe tbody tr th:only-of-type {\n",
       "        vertical-align: middle;\n",
       "    }\n",
       "\n",
       "    .dataframe tbody tr th {\n",
       "        vertical-align: top;\n",
       "    }\n",
       "\n",
       "    .dataframe thead th {\n",
       "        text-align: right;\n",
       "    }\n",
       "</style>\n",
       "<table border=\"1\" class=\"dataframe\">\n",
       "  <thead>\n",
       "    <tr style=\"text-align: right;\">\n",
       "      <th></th>\n",
       "      <th>popularity</th>\n",
       "      <th>duration_ms</th>\n",
       "      <th>danceability</th>\n",
       "      <th>energy</th>\n",
       "      <th>loudness</th>\n",
       "      <th>mode</th>\n",
       "      <th>acousticness</th>\n",
       "      <th>instrumentalness</th>\n",
       "      <th>liveness</th>\n",
       "      <th>valence</th>\n",
       "      <th>tempo</th>\n",
       "      <th>time_signature</th>\n",
       "    </tr>\n",
       "  </thead>\n",
       "  <tbody>\n",
       "    <tr>\n",
       "      <th>count</th>\n",
       "      <td>91427.000000</td>\n",
       "      <td>9.142700e+04</td>\n",
       "      <td>91427.000000</td>\n",
       "      <td>91427.000000</td>\n",
       "      <td>91427.000000</td>\n",
       "      <td>91427.000000</td>\n",
       "      <td>91427.000000</td>\n",
       "      <td>91427.000000</td>\n",
       "      <td>91427.000000</td>\n",
       "      <td>91427.000000</td>\n",
       "      <td>91427.000000</td>\n",
       "      <td>91427.000000</td>\n",
       "    </tr>\n",
       "    <tr>\n",
       "      <th>mean</th>\n",
       "      <td>33.684787</td>\n",
       "      <td>2.267826e+05</td>\n",
       "      <td>0.567790</td>\n",
       "      <td>0.649020</td>\n",
       "      <td>-8.082740</td>\n",
       "      <td>0.629453</td>\n",
       "      <td>0.305672</td>\n",
       "      <td>0.147614</td>\n",
       "      <td>0.213604</td>\n",
       "      <td>0.472654</td>\n",
       "      <td>122.458310</td>\n",
       "      <td>3.907555</td>\n",
       "    </tr>\n",
       "    <tr>\n",
       "      <th>std</th>\n",
       "      <td>22.193856</td>\n",
       "      <td>1.006729e+05</td>\n",
       "      <td>0.173215</td>\n",
       "      <td>0.248429</td>\n",
       "      <td>4.899685</td>\n",
       "      <td>0.482954</td>\n",
       "      <td>0.326811</td>\n",
       "      <td>0.302306</td>\n",
       "      <td>0.188731</td>\n",
       "      <td>0.259117</td>\n",
       "      <td>30.073153</td>\n",
       "      <td>0.430508</td>\n",
       "    </tr>\n",
       "    <tr>\n",
       "      <th>min</th>\n",
       "      <td>0.000000</td>\n",
       "      <td>8.586000e+03</td>\n",
       "      <td>0.000000</td>\n",
       "      <td>0.000000</td>\n",
       "      <td>-49.531000</td>\n",
       "      <td>0.000000</td>\n",
       "      <td>0.000000</td>\n",
       "      <td>0.000000</td>\n",
       "      <td>0.000000</td>\n",
       "      <td>0.000000</td>\n",
       "      <td>0.000000</td>\n",
       "      <td>0.000000</td>\n",
       "    </tr>\n",
       "    <tr>\n",
       "      <th>25%</th>\n",
       "      <td>18.000000</td>\n",
       "      <td>1.744440e+05</td>\n",
       "      <td>0.457000</td>\n",
       "      <td>0.484000</td>\n",
       "      <td>-9.826500</td>\n",
       "      <td>0.000000</td>\n",
       "      <td>0.016800</td>\n",
       "      <td>0.000000</td>\n",
       "      <td>0.098400</td>\n",
       "      <td>0.258000</td>\n",
       "      <td>99.265000</td>\n",
       "      <td>4.000000</td>\n",
       "    </tr>\n",
       "    <tr>\n",
       "      <th>50%</th>\n",
       "      <td>35.000000</td>\n",
       "      <td>2.122000e+05</td>\n",
       "      <td>0.582000</td>\n",
       "      <td>0.693000</td>\n",
       "      <td>-6.875000</td>\n",
       "      <td>1.000000</td>\n",
       "      <td>0.160000</td>\n",
       "      <td>0.000036</td>\n",
       "      <td>0.133000</td>\n",
       "      <td>0.462000</td>\n",
       "      <td>122.252000</td>\n",
       "      <td>4.000000</td>\n",
       "    </tr>\n",
       "    <tr>\n",
       "      <th>75%</th>\n",
       "      <td>50.000000</td>\n",
       "      <td>2.599525e+05</td>\n",
       "      <td>0.696000</td>\n",
       "      <td>0.857000</td>\n",
       "      <td>-4.902000</td>\n",
       "      <td>1.000000</td>\n",
       "      <td>0.572000</td>\n",
       "      <td>0.033200</td>\n",
       "      <td>0.276000</td>\n",
       "      <td>0.682000</td>\n",
       "      <td>140.902500</td>\n",
       "      <td>4.000000</td>\n",
       "    </tr>\n",
       "    <tr>\n",
       "      <th>max</th>\n",
       "      <td>100.000000</td>\n",
       "      <td>5.237295e+06</td>\n",
       "      <td>0.985000</td>\n",
       "      <td>1.000000</td>\n",
       "      <td>3.156000</td>\n",
       "      <td>1.000000</td>\n",
       "      <td>0.996000</td>\n",
       "      <td>1.000000</td>\n",
       "      <td>1.000000</td>\n",
       "      <td>0.994000</td>\n",
       "      <td>222.605000</td>\n",
       "      <td>5.000000</td>\n",
       "    </tr>\n",
       "  </tbody>\n",
       "</table>\n",
       "</div>"
      ],
      "text/plain": [
       "         popularity   duration_ms  danceability        energy      loudness  \\\n",
       "count  91427.000000  9.142700e+04  91427.000000  91427.000000  91427.000000   \n",
       "mean      33.684787  2.267826e+05      0.567790      0.649020     -8.082740   \n",
       "std       22.193856  1.006729e+05      0.173215      0.248429      4.899685   \n",
       "min        0.000000  8.586000e+03      0.000000      0.000000    -49.531000   \n",
       "25%       18.000000  1.744440e+05      0.457000      0.484000     -9.826500   \n",
       "50%       35.000000  2.122000e+05      0.582000      0.693000     -6.875000   \n",
       "75%       50.000000  2.599525e+05      0.696000      0.857000     -4.902000   \n",
       "max      100.000000  5.237295e+06      0.985000      1.000000      3.156000   \n",
       "\n",
       "               mode  acousticness  instrumentalness      liveness  \\\n",
       "count  91427.000000  91427.000000      91427.000000  91427.000000   \n",
       "mean       0.629453      0.305672          0.147614      0.213604   \n",
       "std        0.482954      0.326811          0.302306      0.188731   \n",
       "min        0.000000      0.000000          0.000000      0.000000   \n",
       "25%        0.000000      0.016800          0.000000      0.098400   \n",
       "50%        1.000000      0.160000          0.000036      0.133000   \n",
       "75%        1.000000      0.572000          0.033200      0.276000   \n",
       "max        1.000000      0.996000          1.000000      1.000000   \n",
       "\n",
       "            valence         tempo  time_signature  \n",
       "count  91427.000000  91427.000000    91427.000000  \n",
       "mean       0.472654    122.458310        3.907555  \n",
       "std        0.259117     30.073153        0.430508  \n",
       "min        0.000000      0.000000        0.000000  \n",
       "25%        0.258000     99.265000        4.000000  \n",
       "50%        0.462000    122.252000        4.000000  \n",
       "75%        0.682000    140.902500        4.000000  \n",
       "max        0.994000    222.605000        5.000000  "
      ]
     },
     "execution_count": 16,
     "metadata": {},
     "output_type": "execute_result"
    }
   ],
   "source": [
    "df.describe()"
   ]
  },
  {
   "cell_type": "code",
   "execution_count": null,
   "id": "fed1c7fa",
   "metadata": {},
   "outputs": [],
   "source": []
  },
  {
   "cell_type": "markdown",
   "id": "8aaa7f11",
   "metadata": {},
   "source": [
    "## Top 10 most popular"
   ]
  },
  {
   "cell_type": "markdown",
   "id": "2cdd7c3b",
   "metadata": {},
   "source": [
    "* Artists"
   ]
  },
  {
   "cell_type": "code",
   "execution_count": 17,
   "id": "9c24ac7b",
   "metadata": {},
   "outputs": [],
   "source": [
    "sd_artists = df.groupby([\"artists\"],as_index=False)[\"popularity\"].sum()\\\n",
    "         .sort_values(by=\"popularity\",ascending=False).head(10)"
   ]
  },
  {
   "cell_type": "code",
   "execution_count": 18,
   "id": "8e3a1970",
   "metadata": {},
   "outputs": [
    {
     "data": {
      "text/plain": [
       "<AxesSubplot: xlabel='popularity', ylabel='artists'>"
      ]
     },
     "execution_count": 18,
     "metadata": {},
     "output_type": "execute_result"
    },
    {
     "data": {
      "image/png": "[encoded data removed]",
      "text/plain": [
       "<Figure size 640x480 with 1 Axes>"
      ]
     },
     "metadata": {},
     "output_type": "display_data"
    }
   ],
   "source": [
    "sns.barplot(x=\"popularity\",y=\"artists\",data=sd_artists)"
   ]
  },
  {
   "cell_type": "markdown",
   "id": "b7d206d3",
   "metadata": {},
   "source": [
    "* Albums"
   ]
  },
  {
   "cell_type": "code",
   "execution_count": 19,
   "id": "8da8fdee",
   "metadata": {},
   "outputs": [
    {
     "data": {
      "text/plain": [
       "album_name\n",
       "Un Verano Sin Ti                               5048\n",
       "OzuTochi                                       4286\n",
       "Greatest Hits                                  2990\n",
       "ASOT 1090 - A State Of Trance Episode 1090     2670\n",
       "Awake                                          2569\n",
       "Hamilton (Original Broadway Cast Recording)    2374\n",
       "Genesis 1:1                                    2220\n",
       "Ao Vivo                                        2183\n",
       "The Way That Lovers Do                         2089\n",
       "AM                                             1941\n",
       "Name: popularity, dtype: int64"
      ]
     },
     "execution_count": 19,
     "metadata": {},
     "output_type": "execute_result"
    }
   ],
   "source": [
    "df.groupby(\"album_name\")[\"popularity\"].sum().sort_values(ascending=False).head(10)"
   ]
  },
  {
   "cell_type": "markdown",
   "id": "53be872d",
   "metadata": {},
   "source": [
    "* Tracks"
   ]
  },
  {
   "cell_type": "code",
   "execution_count": 71,
   "id": "9c0ae822",
   "metadata": {},
   "outputs": [
    {
     "data": {
      "text/html": [
       "<div>\n",
       "<style scoped>\n",
       "    .dataframe tbody tr th:only-of-type {\n",
       "        vertical-align: middle;\n",
       "    }\n",
       "\n",
       "    .dataframe tbody tr th {\n",
       "        vertical-align: top;\n",
       "    }\n",
       "\n",
       "    .dataframe thead th {\n",
       "        text-align: right;\n",
       "    }\n",
       "</style>\n",
       "<table border=\"1\" class=\"dataframe\">\n",
       "  <thead>\n",
       "    <tr style=\"text-align: right;\">\n",
       "      <th></th>\n",
       "      <th>track_name</th>\n",
       "      <th>popularity</th>\n",
       "      <th>track_genre</th>\n",
       "    </tr>\n",
       "  </thead>\n",
       "  <tbody>\n",
       "    <tr>\n",
       "      <th>81051</th>\n",
       "      <td>Unholy (feat. Kim Petras)</td>\n",
       "      <td>100</td>\n",
       "      <td>pop</td>\n",
       "    </tr>\n",
       "    <tr>\n",
       "      <th>51664</th>\n",
       "      <td>Quevedo: Bzrp Music Sessions, Vol. 52</td>\n",
       "      <td>99</td>\n",
       "      <td>hip-hop</td>\n",
       "    </tr>\n",
       "    <tr>\n",
       "      <th>30003</th>\n",
       "      <td>I'm Good (Blue)</td>\n",
       "      <td>98</td>\n",
       "      <td>edm</td>\n",
       "    </tr>\n",
       "    <tr>\n",
       "      <th>67356</th>\n",
       "      <td>La Bachata</td>\n",
       "      <td>98</td>\n",
       "      <td>latin</td>\n",
       "    </tr>\n",
       "    <tr>\n",
       "      <th>68303</th>\n",
       "      <td>La Bachata</td>\n",
       "      <td>98</td>\n",
       "      <td>latino</td>\n",
       "    </tr>\n",
       "    <tr>\n",
       "      <th>81210</th>\n",
       "      <td>I'm Good (Blue)</td>\n",
       "      <td>98</td>\n",
       "      <td>pop</td>\n",
       "    </tr>\n",
       "    <tr>\n",
       "      <th>88410</th>\n",
       "      <td>La Bachata</td>\n",
       "      <td>98</td>\n",
       "      <td>reggae</td>\n",
       "    </tr>\n",
       "    <tr>\n",
       "      <th>89411</th>\n",
       "      <td>La Bachata</td>\n",
       "      <td>98</td>\n",
       "      <td>reggaeton</td>\n",
       "    </tr>\n",
       "    <tr>\n",
       "      <th>67358</th>\n",
       "      <td>Me Porto Bonito</td>\n",
       "      <td>97</td>\n",
       "      <td>latin</td>\n",
       "    </tr>\n",
       "    <tr>\n",
       "      <th>67359</th>\n",
       "      <td>Tití Me Preguntó</td>\n",
       "      <td>97</td>\n",
       "      <td>latin</td>\n",
       "    </tr>\n",
       "  </tbody>\n",
       "</table>\n",
       "</div>"
      ],
      "text/plain": [
       "                                  track_name  popularity track_genre\n",
       "81051              Unholy (feat. Kim Petras)         100         pop\n",
       "51664  Quevedo: Bzrp Music Sessions, Vol. 52          99     hip-hop\n",
       "30003                        I'm Good (Blue)          98         edm\n",
       "67356                             La Bachata          98       latin\n",
       "68303                             La Bachata          98      latino\n",
       "81210                        I'm Good (Blue)          98         pop\n",
       "88410                             La Bachata          98      reggae\n",
       "89411                             La Bachata          98   reggaeton\n",
       "67358                        Me Porto Bonito          97       latin\n",
       "67359                       Tití Me Preguntó          97       latin"
      ]
     },
     "execution_count": 71,
     "metadata": {},
     "output_type": "execute_result"
    }
   ],
   "source": [
    "df.nlargest(10,\"popularity\")[[\"track_name\",\"popularity\",\"track_genre\"]]"
   ]
  },
  {
   "cell_type": "code",
   "execution_count": 52,
   "id": "046bf6ad",
   "metadata": {},
   "outputs": [
    {
     "data": {
      "text/plain": [
       "<AxesSubplot: xlabel='popularity', ylabel='track_name'>"
      ]
     },
     "execution_count": 52,
     "metadata": {},
     "output_type": "execute_result"
    },
    {
     "data": {
      "image/png": "[encoded data removed]",
      "text/plain": [
       "<Figure size 640x480 with 1 Axes>"
      ]
     },
     "metadata": {},
     "output_type": "display_data"
    }
   ],
   "source": [
    "most_popular_tracks = df.nlargest(10,\"popularity\")[[\"track_name\",\"popularity\"]]\n",
    "sns.barplot(x=\"popularity\",y=\"track_name\",data=most_popular_tracks) # to visualize it"
   ]
  },
  {
   "cell_type": "markdown",
   "id": "b84510c1",
   "metadata": {},
   "source": [
    "* Track Genre"
   ]
  },
  {
   "cell_type": "code",
   "execution_count": 21,
   "id": "ac67bbaa",
   "metadata": {},
   "outputs": [
    {
     "data": {
      "text/plain": [
       "track_genre\n",
       "pop-film             59283\n",
       "k-pop                56896\n",
       "sad                  52379\n",
       "grunge               49594\n",
       "indian               49539\n",
       "emo                  48128\n",
       "sertanejo            47866\n",
       "pop                  47576\n",
       "progressive-house    46615\n",
       "piano                45273\n",
       "Name: popularity, dtype: int64"
      ]
     },
     "execution_count": 21,
     "metadata": {},
     "output_type": "execute_result"
    }
   ],
   "source": [
    "df.groupby(\"track_genre\")[\"popularity\"].sum().sort_values(ascending=False).head(10)"
   ]
  },
  {
   "cell_type": "markdown",
   "id": "ce1c6cb8",
   "metadata": {},
   "source": [
    "# top 10 tracks with highest tempo"
   ]
  },
  {
   "cell_type": "code",
   "execution_count": 45,
   "id": "f37b38d1",
   "metadata": {},
   "outputs": [],
   "source": [
    "top10_1 = df.nlargest(10,\"tempo\")[[\"tempo\",\"track_name\"]].set_index(\"track_name\")"
   ]
  },
  {
   "cell_type": "code",
   "execution_count": 46,
   "id": "9ab6c6a5",
   "metadata": {},
   "outputs": [
    {
     "data": {
      "text/plain": [
       "<AxesSubplot: xlabel='tempo', ylabel='track_name'>"
      ]
     },
     "execution_count": 46,
     "metadata": {},
     "output_type": "execute_result"
    },
    {
     "data": {
      "image/png": "[encoded data removed]",
      "text/plain": [
       "<Figure size 640x480 with 1 Axes>"
      ]
     },
     "metadata": {},
     "output_type": "display_data"
    }
   ],
   "source": [
    "sns.barplot(x=\"tempo\",y=top10_1.index,data=top10_1)"
   ]
  },
  {
   "cell_type": "code",
   "execution_count": null,
   "id": "5122a723",
   "metadata": {},
   "outputs": [],
   "source": []
  },
  {
   "cell_type": "markdown",
   "id": "83a1d34c",
   "metadata": {},
   "source": [
    "# To change ms into minutes in duration_ms"
   ]
  },
  {
   "cell_type": "code",
   "execution_count": 24,
   "id": "9c636ce0",
   "metadata": {},
   "outputs": [],
   "source": [
    "df[\"duration_min\"] = df[\"duration_ms\"]/60000"
   ]
  },
  {
   "cell_type": "markdown",
   "id": "ab4552ef",
   "metadata": {},
   "source": [
    "# Top 15 albums with highest duration"
   ]
  },
  {
   "cell_type": "code",
   "execution_count": 57,
   "id": "317f6b9c",
   "metadata": {},
   "outputs": [
    {
     "data": {
      "text/html": [
       "<div>\n",
       "<style scoped>\n",
       "    .dataframe tbody tr th:only-of-type {\n",
       "        vertical-align: middle;\n",
       "    }\n",
       "\n",
       "    .dataframe tbody tr th {\n",
       "        vertical-align: top;\n",
       "    }\n",
       "\n",
       "    .dataframe thead th {\n",
       "        text-align: right;\n",
       "    }\n",
       "</style>\n",
       "<table border=\"1\" class=\"dataframe\">\n",
       "  <thead>\n",
       "    <tr style=\"text-align: right;\">\n",
       "      <th></th>\n",
       "      <th>album_name</th>\n",
       "      <th>duration_min</th>\n",
       "    </tr>\n",
       "  </thead>\n",
       "  <tbody>\n",
       "    <tr>\n",
       "      <th>11268</th>\n",
       "      <td>Feliz Cumpleaños con Perreo</td>\n",
       "      <td>654.039700</td>\n",
       "    </tr>\n",
       "    <tr>\n",
       "      <th>20293</th>\n",
       "      <td>Metal</td>\n",
       "      <td>508.995600</td>\n",
       "    </tr>\n",
       "    <tr>\n",
       "      <th>13451</th>\n",
       "      <td>Halloween con perreito</td>\n",
       "      <td>432.176100</td>\n",
       "    </tr>\n",
       "    <tr>\n",
       "      <th>13493</th>\n",
       "      <td>Hans Zimmer: Epic Scores</td>\n",
       "      <td>410.370433</td>\n",
       "    </tr>\n",
       "    <tr>\n",
       "      <th>11340</th>\n",
       "      <td>Fiesta portatil</td>\n",
       "      <td>403.972550</td>\n",
       "    </tr>\n",
       "    <tr>\n",
       "      <th>2191</th>\n",
       "      <td>Alternative Christmas 2022</td>\n",
       "      <td>403.651300</td>\n",
       "    </tr>\n",
       "    <tr>\n",
       "      <th>14370</th>\n",
       "      <td>Homecoming Latin Party</td>\n",
       "      <td>384.662083</td>\n",
       "    </tr>\n",
       "    <tr>\n",
       "      <th>24345</th>\n",
       "      <td>Perreo en Halloween</td>\n",
       "      <td>364.378633</td>\n",
       "    </tr>\n",
       "    <tr>\n",
       "      <th>25555</th>\n",
       "      <td>Queda poco para la PAES 2.0</td>\n",
       "      <td>363.376000</td>\n",
       "    </tr>\n",
       "    <tr>\n",
       "      <th>10503</th>\n",
       "      <td>Esto me suena a Farra</td>\n",
       "      <td>363.338650</td>\n",
       "    </tr>\n",
       "    <tr>\n",
       "      <th>11895</th>\n",
       "      <td>Frescura y Perreo</td>\n",
       "      <td>356.684250</td>\n",
       "    </tr>\n",
       "    <tr>\n",
       "      <th>26286</th>\n",
       "      <td>Reggeaton Imperdible</td>\n",
       "      <td>334.502833</td>\n",
       "    </tr>\n",
       "    <tr>\n",
       "      <th>9808</th>\n",
       "      <td>El perreo es el futuro</td>\n",
       "      <td>324.922317</td>\n",
       "    </tr>\n",
       "    <tr>\n",
       "      <th>26284</th>\n",
       "      <td>Reggaeton Mix Perreito</td>\n",
       "      <td>315.899767</td>\n",
       "    </tr>\n",
       "    <tr>\n",
       "      <th>31961</th>\n",
       "      <td>The Hardcore Archive Part 3 (1997)</td>\n",
       "      <td>306.331750</td>\n",
       "    </tr>\n",
       "  </tbody>\n",
       "</table>\n",
       "</div>"
      ],
      "text/plain": [
       "                               album_name  duration_min\n",
       "11268         Feliz Cumpleaños con Perreo    654.039700\n",
       "20293                               Metal    508.995600\n",
       "13451              Halloween con perreito    432.176100\n",
       "13493            Hans Zimmer: Epic Scores    410.370433\n",
       "11340                     Fiesta portatil    403.972550\n",
       "2191           Alternative Christmas 2022    403.651300\n",
       "14370              Homecoming Latin Party    384.662083\n",
       "24345                 Perreo en Halloween    364.378633\n",
       "25555         Queda poco para la PAES 2.0    363.376000\n",
       "10503               Esto me suena a Farra    363.338650\n",
       "11895                   Frescura y Perreo    356.684250\n",
       "26286                Reggeaton Imperdible    334.502833\n",
       "9808               El perreo es el futuro    324.922317\n",
       "26284              Reggaeton Mix Perreito    315.899767\n",
       "31961  The Hardcore Archive Part 3 (1997)    306.331750"
      ]
     },
     "execution_count": 57,
     "metadata": {},
     "output_type": "execute_result"
    }
   ],
   "source": [
    "df.groupby(\"album_name\",as_index=False)[\"duration_min\"].sum()\\\n",
    ".sort_values(by=\"duration_min\",ascending=False).head(15)"
   ]
  },
  {
   "cell_type": "code",
   "execution_count": 39,
   "id": "76b2fcaf",
   "metadata": {},
   "outputs": [],
   "source": [
    "Album_dur = df.groupby(\"album_name\",as_index=False)[\"duration_min\"].sum()\\\n",
    ".sort_values(by=\"duration_min\",ascending=False).head(15)"
   ]
  },
  {
   "cell_type": "code",
   "execution_count": 40,
   "id": "eddc96ba",
   "metadata": {},
   "outputs": [
    {
     "data": {
      "text/plain": [
       "<AxesSubplot: xlabel='duration_min', ylabel='album_name'>"
      ]
     },
     "execution_count": 40,
     "metadata": {},
     "output_type": "execute_result"
    },
    {
     "data": {
      "image/png": "[encoded data removed]",
      "text/plain": [
       "<Figure size 640x480 with 1 Axes>"
      ]
     },
     "metadata": {},
     "output_type": "display_data"
    }
   ],
   "source": [
    "sns.barplot(x=\"duration_min\",y=\"album_name\",data=Album_dur)"
   ]
  },
  {
   "cell_type": "code",
   "execution_count": 27,
   "id": "d81c7962",
   "metadata": {},
   "outputs": [
    {
     "data": {
      "text/plain": [
       "False    83644\n",
       "True      7783\n",
       "Name: explicit, dtype: int64"
      ]
     },
     "execution_count": 27,
     "metadata": {},
     "output_type": "execute_result"
    }
   ],
   "source": [
    "df.explicit.value_counts()"
   ]
  },
  {
   "cell_type": "markdown",
   "id": "480f07c1",
   "metadata": {},
   "source": [
    "# Indian Albums"
   ]
  },
  {
   "cell_type": "markdown",
   "id": "7f28c9ce",
   "metadata": {},
   "source": [
    "* total Indian Albums"
   ]
  },
  {
   "cell_type": "code",
   "execution_count": 28,
   "id": "bd744733",
   "metadata": {},
   "outputs": [
    {
     "data": {
      "text/plain": [
       "1000"
      ]
     },
     "execution_count": 28,
     "metadata": {},
     "output_type": "execute_result"
    }
   ],
   "source": [
    "len(df[df[\"track_genre\"].str.contains(\"Indian\",case=False)])"
   ]
  },
  {
   "cell_type": "markdown",
   "id": "57372cc2",
   "metadata": {},
   "source": [
    "* top 10 popular Indian Albums"
   ]
  },
  {
   "cell_type": "code",
   "execution_count": 29,
   "id": "62c0a4ec",
   "metadata": {},
   "outputs": [],
   "source": [
    "Indian_df = df[df[\"track_genre\"].str.contains(\"Indian\",case=False)]"
   ]
  },
  {
   "cell_type": "code",
   "execution_count": 70,
   "id": "3013b45b",
   "metadata": {},
   "outputs": [
    {
     "data": {
      "text/html": [
       "<div>\n",
       "<style scoped>\n",
       "    .dataframe tbody tr th:only-of-type {\n",
       "        vertical-align: middle;\n",
       "    }\n",
       "\n",
       "    .dataframe tbody tr th {\n",
       "        vertical-align: top;\n",
       "    }\n",
       "\n",
       "    .dataframe thead th {\n",
       "        text-align: right;\n",
       "    }\n",
       "</style>\n",
       "<table border=\"1\" class=\"dataframe\">\n",
       "  <thead>\n",
       "    <tr style=\"text-align: right;\">\n",
       "      <th></th>\n",
       "      <th>album_name</th>\n",
       "      <th>popularity</th>\n",
       "    </tr>\n",
       "  </thead>\n",
       "  <tbody>\n",
       "    <tr>\n",
       "      <th>189</th>\n",
       "      <td>Genesis 1:1</td>\n",
       "      <td>592</td>\n",
       "    </tr>\n",
       "    <tr>\n",
       "      <th>661</th>\n",
       "      <td>Yeh Jawaani Hai Deewani</td>\n",
       "      <td>582</td>\n",
       "    </tr>\n",
       "    <tr>\n",
       "      <th>353</th>\n",
       "      <td>Love Aaj Kal (Original Motion Picture Soundtrack)</td>\n",
       "      <td>496</td>\n",
       "    </tr>\n",
       "    <tr>\n",
       "      <th>94</th>\n",
       "      <td>Brahmastra (Original Motion Picture Soundtrack)</td>\n",
       "      <td>457</td>\n",
       "    </tr>\n",
       "    <tr>\n",
       "      <th>639</th>\n",
       "      <td>Veer - Zaara</td>\n",
       "      <td>434</td>\n",
       "    </tr>\n",
       "    <tr>\n",
       "      <th>20</th>\n",
       "      <td>Ae Dil Hai Mushkil (Original Motion Picture So...</td>\n",
       "      <td>419</td>\n",
       "    </tr>\n",
       "    <tr>\n",
       "      <th>249</th>\n",
       "      <td>Jab We Met</td>\n",
       "      <td>402</td>\n",
       "    </tr>\n",
       "    <tr>\n",
       "      <th>135</th>\n",
       "      <td>Desi Boyz</td>\n",
       "      <td>393</td>\n",
       "    </tr>\n",
       "    <tr>\n",
       "      <th>63</th>\n",
       "      <td>Barfi! (Original Motion Picture Soundtrack)</td>\n",
       "      <td>383</td>\n",
       "    </tr>\n",
       "    <tr>\n",
       "      <th>113</th>\n",
       "      <td>Chhichhore</td>\n",
       "      <td>374</td>\n",
       "    </tr>\n",
       "  </tbody>\n",
       "</table>\n",
       "</div>"
      ],
      "text/plain": [
       "                                            album_name  popularity\n",
       "189                                        Genesis 1:1         592\n",
       "661                            Yeh Jawaani Hai Deewani         582\n",
       "353  Love Aaj Kal (Original Motion Picture Soundtrack)         496\n",
       "94     Brahmastra (Original Motion Picture Soundtrack)         457\n",
       "639                                       Veer - Zaara         434\n",
       "20   Ae Dil Hai Mushkil (Original Motion Picture So...         419\n",
       "249                                         Jab We Met         402\n",
       "135                                          Desi Boyz         393\n",
       "63         Barfi! (Original Motion Picture Soundtrack)         383\n",
       "113                                         Chhichhore         374"
      ]
     },
     "execution_count": 70,
     "metadata": {},
     "output_type": "execute_result"
    }
   ],
   "source": [
    "Indian_df.groupby(\"album_name\",as_index=False)[\"popularity\"]\\\n",
    ".sum().sort_values(by=\"popularity\",ascending=False).head(10)"
   ]
  },
  {
   "cell_type": "code",
   "execution_count": 30,
   "id": "cd580585",
   "metadata": {},
   "outputs": [],
   "source": [
    "Top_10_Indian = Indian_df.groupby(\"album_name\",as_index=False)[\"popularity\"]\\\n",
    ".sum().sort_values(by=\"popularity\",ascending=False).head(10)"
   ]
  },
  {
   "cell_type": "code",
   "execution_count": 31,
   "id": "cf52decb",
   "metadata": {},
   "outputs": [
    {
     "data": {
      "text/plain": [
       "<AxesSubplot: xlabel='popularity', ylabel='album_name'>"
      ]
     },
     "execution_count": 31,
     "metadata": {},
     "output_type": "execute_result"
    },
    {
     "data": {
      "image/png": "[encoded data removed]",
      "text/plain": [
       "<Figure size 640x480 with 1 Axes>"
      ]
     },
     "metadata": {},
     "output_type": "display_data"
    }
   ],
   "source": [
    "sns.barplot(x=\"popularity\",y= \"album_name\",data= Top_10_Indian)"
   ]
  },
  {
   "cell_type": "code",
   "execution_count": 53,
   "id": "065358fd",
   "metadata": {},
   "outputs": [
    {
     "data": {
      "text/plain": [
       "Index(['artists', 'album_name', 'track_name', 'popularity', 'duration_ms',\n",
       "       'explicit', 'danceability', 'energy', 'loudness', 'mode',\n",
       "       'acousticness', 'instrumentalness', 'liveness', 'valence', 'tempo',\n",
       "       'time_signature', 'track_genre', 'duration_min'],\n",
       "      dtype='object')"
      ]
     },
     "execution_count": 53,
     "metadata": {},
     "output_type": "execute_result"
    }
   ],
   "source": [
    "df.columns"
   ]
  },
  {
   "cell_type": "code",
   "execution_count": 55,
   "id": "da5111f6",
   "metadata": {},
   "outputs": [
    {
     "data": {
      "text/html": [
       "<div>\n",
       "<style scoped>\n",
       "    .dataframe tbody tr th:only-of-type {\n",
       "        vertical-align: middle;\n",
       "    }\n",
       "\n",
       "    .dataframe tbody tr th {\n",
       "        vertical-align: top;\n",
       "    }\n",
       "\n",
       "    .dataframe thead th {\n",
       "        text-align: right;\n",
       "    }\n",
       "</style>\n",
       "<table border=\"1\" class=\"dataframe\">\n",
       "  <thead>\n",
       "    <tr style=\"text-align: right;\">\n",
       "      <th></th>\n",
       "      <th>artists</th>\n",
       "      <th>popularity</th>\n",
       "    </tr>\n",
       "  </thead>\n",
       "  <tbody>\n",
       "    <tr>\n",
       "      <th>251</th>\n",
       "      <td>Pritam;Arijit Singh</td>\n",
       "      <td>2537</td>\n",
       "    </tr>\n",
       "    <tr>\n",
       "      <th>238</th>\n",
       "      <td>Prateek Kuhad</td>\n",
       "      <td>1242</td>\n",
       "    </tr>\n",
       "    <tr>\n",
       "      <th>304</th>\n",
       "      <td>Pritam;KK</td>\n",
       "      <td>953</td>\n",
       "    </tr>\n",
       "    <tr>\n",
       "      <th>424</th>\n",
       "      <td>Ritviz</td>\n",
       "      <td>903</td>\n",
       "    </tr>\n",
       "    <tr>\n",
       "      <th>30</th>\n",
       "      <td>Anuv Jain</td>\n",
       "      <td>641</td>\n",
       "    </tr>\n",
       "    <tr>\n",
       "      <th>511</th>\n",
       "      <td>The Local Train</td>\n",
       "      <td>611</td>\n",
       "    </tr>\n",
       "    <tr>\n",
       "      <th>139</th>\n",
       "      <td>Kailash Kher</td>\n",
       "      <td>587</td>\n",
       "    </tr>\n",
       "    <tr>\n",
       "      <th>254</th>\n",
       "      <td>Pritam;Arijit Singh;Amitabh Bhattacharya</td>\n",
       "      <td>581</td>\n",
       "    </tr>\n",
       "    <tr>\n",
       "      <th>319</th>\n",
       "      <td>Pritam;Mohit Chauhan</td>\n",
       "      <td>511</td>\n",
       "    </tr>\n",
       "    <tr>\n",
       "      <th>536</th>\n",
       "      <td>Zaeden</td>\n",
       "      <td>499</td>\n",
       "    </tr>\n",
       "  </tbody>\n",
       "</table>\n",
       "</div>"
      ],
      "text/plain": [
       "                                      artists  popularity\n",
       "251                       Pritam;Arijit Singh        2537\n",
       "238                             Prateek Kuhad        1242\n",
       "304                                 Pritam;KK         953\n",
       "424                                    Ritviz         903\n",
       "30                                  Anuv Jain         641\n",
       "511                           The Local Train         611\n",
       "139                              Kailash Kher         587\n",
       "254  Pritam;Arijit Singh;Amitabh Bhattacharya         581\n",
       "319                      Pritam;Mohit Chauhan         511\n",
       "536                                    Zaeden         499"
      ]
     },
     "execution_count": 55,
     "metadata": {},
     "output_type": "execute_result"
    }
   ],
   "source": [
    "Indian_df.groupby([\"artists\"],as_index=False)[\"popularity\"].sum()\\\n",
    ".sort_values(by=\"popularity\",ascending=False).head(10)"
   ]
  },
  {
   "cell_type": "code",
   "execution_count": 56,
   "id": "27d59249",
   "metadata": {
    "scrolled": true
   },
   "outputs": [
    {
     "data": {
      "text/plain": [
       "<AxesSubplot: xlabel='popularity', ylabel='artists'>"
      ]
     },
     "execution_count": 56,
     "metadata": {},
     "output_type": "execute_result"
    },
    {
     "data": {
      "image/png": "[encoded data removed]",
      "text/plain": [
       "<Figure size 640x480 with 1 Axes>"
      ]
     },
     "metadata": {},
     "output_type": "display_data"
    }
   ],
   "source": [
    "Top_Indian_artist = Indian_df.groupby([\"artists\"],as_index=False)[\"popularity\"].sum()\\\n",
    "                   .sort_values(by=\"popularity\",ascending=False).head(10)\n",
    "sns.barplot(x=\"popularity\",y=\"artists\",data = Top_Indian_artist)"
   ]
  },
  {
   "cell_type": "code",
   "execution_count": 64,
   "id": "0fee9648",
   "metadata": {
    "scrolled": true
   },
   "outputs": [
    {
     "data": {
      "text/html": [
       "<div>\n",
       "<style scoped>\n",
       "    .dataframe tbody tr th:only-of-type {\n",
       "        vertical-align: middle;\n",
       "    }\n",
       "\n",
       "    .dataframe tbody tr th {\n",
       "        vertical-align: top;\n",
       "    }\n",
       "\n",
       "    .dataframe thead th {\n",
       "        text-align: right;\n",
       "    }\n",
       "</style>\n",
       "<table border=\"1\" class=\"dataframe\">\n",
       "  <thead>\n",
       "    <tr style=\"text-align: right;\">\n",
       "      <th></th>\n",
       "      <th>album_name</th>\n",
       "      <th>duration_min</th>\n",
       "    </tr>\n",
       "  </thead>\n",
       "  <tbody>\n",
       "    <tr>\n",
       "      <th>639</th>\n",
       "      <td>Veer - Zaara</td>\n",
       "      <td>46.070350</td>\n",
       "    </tr>\n",
       "    <tr>\n",
       "      <th>353</th>\n",
       "      <td>Love Aaj Kal (Original Motion Picture Soundtrack)</td>\n",
       "      <td>39.700617</td>\n",
       "    </tr>\n",
       "    <tr>\n",
       "      <th>661</th>\n",
       "      <td>Yeh Jawaani Hai Deewani</td>\n",
       "      <td>38.231717</td>\n",
       "    </tr>\n",
       "    <tr>\n",
       "      <th>94</th>\n",
       "      <td>Brahmastra (Original Motion Picture Soundtrack)</td>\n",
       "      <td>34.833983</td>\n",
       "    </tr>\n",
       "    <tr>\n",
       "      <th>256</th>\n",
       "      <td>Jannat 2 (Original Motion Picture Soundtrack)</td>\n",
       "      <td>34.551300</td>\n",
       "    </tr>\n",
       "    <tr>\n",
       "      <th>63</th>\n",
       "      <td>Barfi! (Original Motion Picture Soundtrack)</td>\n",
       "      <td>33.180850</td>\n",
       "    </tr>\n",
       "    <tr>\n",
       "      <th>249</th>\n",
       "      <td>Jab We Met</td>\n",
       "      <td>32.644483</td>\n",
       "    </tr>\n",
       "    <tr>\n",
       "      <th>135</th>\n",
       "      <td>Desi Boyz</td>\n",
       "      <td>30.669933</td>\n",
       "    </tr>\n",
       "    <tr>\n",
       "      <th>20</th>\n",
       "      <td>Ae Dil Hai Mushkil (Original Motion Picture So...</td>\n",
       "      <td>30.652133</td>\n",
       "    </tr>\n",
       "    <tr>\n",
       "      <th>285</th>\n",
       "      <td>Kalank (Original Motion Picture Soundtrack)</td>\n",
       "      <td>29.969383</td>\n",
       "    </tr>\n",
       "  </tbody>\n",
       "</table>\n",
       "</div>"
      ],
      "text/plain": [
       "                                            album_name  duration_min\n",
       "639                                       Veer - Zaara     46.070350\n",
       "353  Love Aaj Kal (Original Motion Picture Soundtrack)     39.700617\n",
       "661                            Yeh Jawaani Hai Deewani     38.231717\n",
       "94     Brahmastra (Original Motion Picture Soundtrack)     34.833983\n",
       "256      Jannat 2 (Original Motion Picture Soundtrack)     34.551300\n",
       "63         Barfi! (Original Motion Picture Soundtrack)     33.180850\n",
       "249                                         Jab We Met     32.644483\n",
       "135                                          Desi Boyz     30.669933\n",
       "20   Ae Dil Hai Mushkil (Original Motion Picture So...     30.652133\n",
       "285        Kalank (Original Motion Picture Soundtrack)     29.969383"
      ]
     },
     "execution_count": 64,
     "metadata": {},
     "output_type": "execute_result"
    }
   ],
   "source": [
    "Indian_df.groupby(\"album_name\",as_index=False)[\"duration_min\"].sum()\\\n",
    ".sort_values(by=\"duration_min\",ascending=False).head(10)"
   ]
  },
  {
   "cell_type": "code",
   "execution_count": 67,
   "id": "546332aa",
   "metadata": {},
   "outputs": [],
   "source": [
    "Indian_largest = Indian_df.groupby(\"album_name\",as_index=False)[\"duration_min\"].sum()\\\n",
    "                .sort_values(by=\"duration_min\",ascending=False).head(10)"
   ]
  },
  {
   "cell_type": "code",
   "execution_count": 68,
   "id": "63e93b95",
   "metadata": {},
   "outputs": [
    {
     "data": {
      "text/plain": [
       "<AxesSubplot: xlabel='duration_min', ylabel='album_name'>"
      ]
     },
     "execution_count": 68,
     "metadata": {},
     "output_type": "execute_result"
    },
    {
     "data": {
      "image/png": "[encoded data removed]",
      "text/plain": [
       "<Figure size 640x480 with 1 Axes>"
      ]
     },
     "metadata": {},
     "output_type": "display_data"
    }
   ],
   "source": [
    "sns.barplot(x=\"duration_min\",y=\"album_name\",data=Indian_largest)"
   ]
  },
  {
   "cell_type": "markdown",
   "id": "7700bb5a",
   "metadata": {},
   "source": [
    "\n",
    "\n",
    "\n",
    "## Conclusion"
   ]
  },
  {
   "cell_type": "markdown",
   "id": "b3ee3311",
   "metadata": {},
   "source": [
    "* We can clearly see that Linkin Park is the most popular Artist,\n",
    "  the most popular album is \" Un Verano Sin Ti \" with a popularity\n",
    "  of 5048 and the most popular track is \"Unholy (feat. Kim Petras)\" .\n",
    "  \n",
    "* The album with highest duration is \"Feliz Cumpleaños con Perreo\" \n",
    "  which is of 654.03 minutes.\n",
    "  \n",
    "* In India Arijit Singh is the most popular singer and \"Genesis 1:1\"\n",
    "  is most popular album with a popularity of 592 and the largest \n",
    "  album of India is \"Veer - Zaara\" with a duration of 46.07 minutes.\n",
    "  \n",
    "* We can clearly see that the popularity of Indian Songs is very less in \n",
    "  comparision with International Songs. Pop genre is the most famous track\n",
    "  genre in the world."
   ]
  },
  {
   "cell_type": "markdown",
   "id": "4e53fa94",
   "metadata": {},
   "source": [
    "# Challenges Faced"
   ]
  },
  {
   "cell_type": "markdown",
   "id": "bd5540d7",
   "metadata": {},
   "source": [
    "* The biggest challenge was to visualize the data \n",
    "* Some other challenges that were faced are removing duplicate values,\n",
    "  null values and using group by function to get valuable insights."
   ]
  },
  {
   "cell_type": "code",
   "execution_count": null,
   "id": "4c3b5f4f",
   "metadata": {},
   "outputs": [],
   "source": []
  }
 ],
 "metadata": {
  "kernelspec": {
   "display_name": "Python 3 (ipykernel)",
   "language": "python",
   "name": "python3"
  },
  "language_info": {
   "codemirror_mode": {
    "name": "ipython",
    "version": 3
   },
   "file_extension": ".py",
   "mimetype": "text/x-python",
   "name": "python",
   "nbconvert_exporter": "python",
   "pygments_lexer": "ipython3",
   "version": "3.10.7"
  }
 },
 "nbformat": 4,
 "nbformat_minor": 5
}
